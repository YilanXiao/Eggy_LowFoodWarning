{
 "cells": [
  {
   "cell_type": "code",
   "execution_count": 1,
   "metadata": {},
   "outputs": [],
   "source": [
    "import numpy as np"
   ]
  },
  {
   "cell_type": "code",
   "execution_count": 2,
   "metadata": {},
   "outputs": [
    {
     "data": {
      "text/plain": [
       "array([1., 1., 1., 1.])"
      ]
     },
     "execution_count": 2,
     "metadata": {},
     "output_type": "execute_result"
    }
   ],
   "source": [
    "np.ones(4)"
   ]
  },
  {
   "cell_type": "code",
   "execution_count": 3,
   "metadata": {},
   "outputs": [],
   "source": [
    "import numpy as np\n",
    "\n",
    "portion_size = 10 # grams\n",
    "meal_number_per_day = 4 # default\n",
    "portion_each_meal = np.ones(meal_number_per_day) # default 1 portion per meal\n",
    "food_in = 1000 # grams\n",
    "\n",
    "def eggy_food_warning(portion_size = portion_size, portion_each_meal = portion_each_meal, eggy_food = food_in):\n",
    "    eggy_daily_consumpt = (portion_size * portion_each_meal).sum()\n",
    "    run_out_day = eggy_food // eggy_daily_consumpt\n",
    "    run_out_meal = eggy_food % eggy_daily_consumpt * meal_number_per_day\n",
    "    print(\":( Eggy is hungi!\" + \"\\n\" + \"Eggy will run out of food in \" + str(run_out_day) + \" days and \" + str(run_out_meal*portion_size) + \" grams left.\")"
   ]
  },
  {
   "cell_type": "code",
   "execution_count": 4,
   "metadata": {},
   "outputs": [
    {
     "name": "stdout",
     "output_type": "stream",
     "text": [
      ":( Eggy is hungi!\n",
      "Eggy will run out of food in 25.0 days and 0.0 grams left.\n"
     ]
    }
   ],
   "source": [
    "eggy_food_warning(portion_size=10, portion_each_meal=np.ones(4), eggy_food=1000)"
   ]
  },
  {
   "cell_type": "code",
   "execution_count": null,
   "metadata": {},
   "outputs": [],
   "source": []
  }
 ],
 "metadata": {
  "kernelspec": {
   "display_name": "ts_pred",
   "language": "python",
   "name": "python3"
  },
  "language_info": {
   "codemirror_mode": {
    "name": "ipython",
    "version": 3
   },
   "file_extension": ".py",
   "mimetype": "text/x-python",
   "name": "python",
   "nbconvert_exporter": "python",
   "pygments_lexer": "ipython3",
   "version": "3.9.7"
  },
  "orig_nbformat": 4,
  "vscode": {
   "interpreter": {
    "hash": "1c11ff9d236b312779d50a4fee078497d2b558e5ea756136a1f49f4a2a13b357"
   }
  }
 },
 "nbformat": 4,
 "nbformat_minor": 2
}
